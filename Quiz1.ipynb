{
  "nbformat": 4,
  "nbformat_minor": 0,
  "metadata": {
    "colab": {
      "name": "Quiz1",
      "provenance": [],
      "collapsed_sections": [],
      "include_colab_link": true
    },
    "kernelspec": {
      "name": "python3",
      "display_name": "Python 3"
    },
    "language_info": {
      "name": "python"
    }
  },
  "cells": [
    {
      "cell_type": "markdown",
      "metadata": {
        "id": "view-in-github",
        "colab_type": "text"
      },
      "source": [
        "<a href=\"https://colab.research.google.com/github/kumoromilee/BasicProg_DataViz65/blob/main/Quiz1.ipynb\" target=\"_parent\"><img src=\"https://colab.research.google.com/assets/colab-badge.svg\" alt=\"Open In Colab\"/></a>"
      ]
    },
    {
      "cell_type": "markdown",
      "source": [
        "Quiz 1\n",
        "\n",
        "คำนวณเวลาเป็นความต่างของเวลาเป็นวินาทีของช่วงเวลาต่อไปนี้โดยใช้คำสั่ง split() ช่วย และ print ออกมาให้สวยงาม\n",
        "\n",
        "09:11:50 - 12:30:15\n",
        "13:41:07 - 20:00:18\n",
        "21:30:15 - 00:00:00\n",
        "00:00:00 - 23:59:59"
      ],
      "metadata": {
        "id": "80bebgOqKJcV"
      }
    },
    {
      "cell_type": "code",
      "execution_count": 2,
      "metadata": {
        "colab": {
          "base_uri": "https://localhost:8080/"
        },
        "id": "E80LoDC_Eflb",
        "outputId": "65482eb6-e9c0-44c6-c00d-6f102007a991"
      },
      "outputs": [
        {
          "output_type": "stream",
          "name": "stdout",
          "text": [
            "['09', '11', '50']\n",
            "['12', '30', '15']\n",
            "('09:11:50', '12:30:15') ช่วงเวลาตั้งแต่ 09:11:50-12:30:15 มีความต่างของเวลาเป็นวินาที\n"
          ]
        }
      ],
      "source": [
        "a = '09:11:50'\n",
        "a_sp = a.split(':')\n",
        "print(a_sp)\n",
        "ans1= int(a_sp[0])*3600+int (a_sp[1])*60+int (a_sp[2])\n",
        "b = '12:30:15'\n",
        "b_sp = b.split(':')\n",
        "print(b_sp)\n",
        "ans2= int(b_sp[0])*3600+int (b_sp[1])*60+int (b_sp[2])\n",
        "print(f'{a,b} ช่วงเวลาตั้งแต่ {a}-{b} มีความต่างของเวลาเป็นวินาที')"
      ]
    },
    {
      "cell_type": "code",
      "source": [
        "c = '13:41:07'\n",
        "c_sp = c.split(':')\n",
        "print(c_sp)\n",
        "ans3= int(c_sp[0])*3600+int (c_sp[1])*60+int (c_sp[2])\n",
        "d = '20:00:18'\n",
        "d_sp = d.split(':')\n",
        "print(d_sp)\n",
        "ans4= int(d_sp[0])*3600+int (d_sp[1])*60+int (d_sp[2])\n",
        "print(f'{c,d} ช่วงเวลาตั้งแต่ {c}-{d} มีความต่างของเวลาเป็นวินาที')"
      ],
      "metadata": {
        "colab": {
          "base_uri": "https://localhost:8080/"
        },
        "id": "EOm3PLoPGfGv",
        "outputId": "a1e26485-e8dd-424f-c3d8-48022ce7e632"
      },
      "execution_count": 3,
      "outputs": [
        {
          "output_type": "stream",
          "name": "stdout",
          "text": [
            "['13', '41', '07']\n",
            "['20', '00', '18']\n",
            "('13:41:07', '20:00:18') ช่วงเวลาตั้งแต่ 13:41:07-20:00:18 มีความต่างของเวลาเป็นวินาที\n"
          ]
        }
      ]
    },
    {
      "cell_type": "code",
      "source": [
        "e = '21:30:15'\n",
        "e_sp = e.split(':')\n",
        "print(e_sp)\n",
        "ans5= int(e_sp[0])*3600+int (e_sp[1])*60+int (e_sp[2])\n",
        "f = '00:00:00'\n",
        "f_sp = f.split(':')\n",
        "print(f_sp)\n",
        "ans6= int(f_sp[0])*3600+int (f_sp[1])*60+int (f_sp[2])\n",
        "print(f'{e,f} ช่วงเวลาตั้งแต่ {a}-{b} มีความต่างของเวลาเป็นวินาที')"
      ],
      "metadata": {
        "colab": {
          "base_uri": "https://localhost:8080/"
        },
        "id": "kF2o1pk1HECP",
        "outputId": "6a704148-7b53-4445-a1fd-f248a4f531ce"
      },
      "execution_count": 4,
      "outputs": [
        {
          "output_type": "stream",
          "name": "stdout",
          "text": [
            "['21', '30', '15']\n",
            "['00', '00', '00']\n",
            "('21:30:15', '00:00:00') ช่วงเวลาตั้งแต่ 09:11:50-12:30:15 มีความต่างของเวลาเป็นวินาที\n"
          ]
        }
      ]
    },
    {
      "cell_type": "code",
      "source": [
        "g = '00:00:00'\n",
        "g_sp = g.split(':')\n",
        "print(g_sp)\n",
        "ans7= int(g_sp[0])*3600+int (g_sp[1])*60+int (g_sp[2])\n",
        "h = '23:59:59'\n",
        "h_sp = h.split(':')\n",
        "print(h_sp)\n",
        "ans8= int(h_sp[0])*3600+int (h_sp[1])*60+int (h_sp[2])\n",
        "print(f'{g,h} ช่วงเวลาตั้งแต่ {a}-{b} มีความต่างของเวลาเป็นวินาที')"
      ],
      "metadata": {
        "colab": {
          "base_uri": "https://localhost:8080/"
        },
        "id": "jaRxGaQvHc9D",
        "outputId": "d08529f2-3f55-4121-f021-80825e676f5c"
      },
      "execution_count": 5,
      "outputs": [
        {
          "output_type": "stream",
          "name": "stdout",
          "text": [
            "['00', '00', '00']\n",
            "['23', '59', '59']\n",
            "('00:00:00', '23:59:59') ช่วงเวลาตั้งแต่ 09:11:50-12:30:15 มีความต่างของเวลาเป็นวินาที\n"
          ]
        }
      ]
    },
    {
      "cell_type": "markdown",
      "source": [
        "633020442-5\tนางสาวทิพเกษร ยอดคุณ\n",
        "633020449-1\tนางสาวสุจีรา นาคคำ\n",
        "633020548-9\tนางสาวกัลยรัตน์ บุญกอง"
      ],
      "metadata": {
        "id": "tIs8dGB7Hl9c"
      }
    },
    {
      "cell_type": "code",
      "source": [
        ""
      ],
      "metadata": {
        "id": "3i4UzjuJHr0d"
      },
      "execution_count": null,
      "outputs": []
    }
  ]
}