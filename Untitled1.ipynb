{
  "nbformat": 4,
  "nbformat_minor": 0,
  "metadata": {
    "colab": {
      "name": "Untitled1.ipynb",
      "provenance": [],
      "authorship_tag": "ABX9TyPPiDwTBaqK3YHqe3MA0CIO",
      "include_colab_link": true
    },
    "kernelspec": {
      "name": "python3",
      "display_name": "Python 3"
    },
    "language_info": {
      "name": "python"
    }
  },
  "cells": [
    {
      "cell_type": "markdown",
      "metadata": {
        "id": "view-in-github",
        "colab_type": "text"
      },
      "source": [
        "<a href=\"https://colab.research.google.com/github/kumoromilee/BasicProg_DataViz65/blob/main/Untitled1.ipynb\" target=\"_parent\"><img src=\"https://colab.research.google.com/assets/colab-badge.svg\" alt=\"Open In Colab\"/></a>"
      ]
    },
    {
      "cell_type": "code",
      "execution_count": null,
      "metadata": {
        "id": "X8j8kF-uGrsH"
      },
      "outputs": [],
      "source": [
        "กัลยรัตน์ บุญกอง (5489)"
      ]
    },
    {
      "cell_type": "markdown",
      "source": [
        "# Markdown \n"
      ],
      "metadata": {
        "id": "7Ns5pCvaG0bA"
      }
    },
    {
      "cell_type": "markdown",
      "source": [
        "## heading2"
      ],
      "metadata": {
        "id": "YIN-kaDpG62m"
      }
    },
    {
      "cell_type": "code",
      "source": [
        "print('kanyarat')"
      ],
      "metadata": {
        "id": "Cd1F-ZrkIkVN"
      },
      "execution_count": null,
      "outputs": []
    },
    {
      "cell_type": "markdown",
      "source": [
        ""
      ],
      "metadata": {
        "id": "403nHULoHF_h"
      }
    }
  ]
}